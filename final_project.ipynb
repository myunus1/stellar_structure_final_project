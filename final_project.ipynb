{
 "cells": [
  {
   "cell_type": "markdown",
   "id": "eab83b46-1c24-45c4-99df-ebf572c163de",
   "metadata": {},
   "source": [
    "Collaborators: Tom Resseguier, Swetha Sankar"
   ]
  },
  {
   "cell_type": "code",
   "execution_count": 1,
   "id": "67ea95ce-a5ac-4429-861d-acd7abe73bb3",
   "metadata": {},
   "outputs": [],
   "source": [
    "import numpy as np\n",
    "import pandas as pd\n",
    "from scipy.interpolate import RegularGridInterpolator\n",
    "from scipy.integrate import solve_ivp\n",
    "from scipy.optimize import root\n",
    "from matplotlib import pyplot as plt\n",
    "import time"
   ]
  },
  {
   "cell_type": "code",
   "execution_count": 2,
   "id": "78d8a687-f718-45a0-9231-38cc7e71a301",
   "metadata": {},
   "outputs": [],
   "source": [
    "k = 1.381e-16\n",
    "sigma = 5.670e-5\n",
    "c = 2.998e10\n",
    "a = 4 * sigma / c\n",
    "G  = 6.674e-8\n",
    "NA = 6.022e23"
   ]
  },
  {
   "cell_type": "markdown",
   "id": "545fe698-d80e-4dc2-91fc-ee2331861939",
   "metadata": {},
   "source": [
    "# Part 3"
   ]
  },
  {
   "cell_type": "markdown",
   "id": "b78f6544-9d4f-4275-a673-42ef363fed8e",
   "metadata": {},
   "source": [
    "Note: I've chosen the Sun to be my star."
   ]
  },
  {
   "cell_type": "code",
   "execution_count": 3,
   "id": "7aba738d-f341-41a5-99b1-c7bee68a2a04",
   "metadata": {},
   "outputs": [],
   "source": [
    "M_sol = 1.989e33\n",
    "R_sol = 6.955e10\n",
    "L_sol = 3.839e33"
   ]
  },
  {
   "cell_type": "code",
   "execution_count": 4,
   "id": "6906841b-5140-4edf-b869-b1d89c30f3a6",
   "metadata": {},
   "outputs": [],
   "source": [
    "X = 0.7077\n",
    "Z = 0.0188\n",
    "Y = 1 - X - Z"
   ]
  },
  {
   "cell_type": "code",
   "execution_count": 5,
   "id": "bf05057e-9127-468b-b021-bc3de788c817",
   "metadata": {},
   "outputs": [],
   "source": [
    "excel_content = 'part2.xlsx'"
   ]
  },
  {
   "cell_type": "code",
   "execution_count": 6,
   "id": "ab0b61ab-7e7b-4424-aaf2-8bb27578e547",
   "metadata": {},
   "outputs": [],
   "source": [
    "# Using OPAL Table 73\n",
    "df = pd.read_excel(excel_content, header=0, index_col=0)"
   ]
  },
  {
   "cell_type": "code",
   "execution_count": 7,
   "id": "2638572b-b480-40a0-8bce-ad21c865ca02",
   "metadata": {},
   "outputs": [
    {
     "name": "stdout",
     "output_type": "stream",
     "text": [
      "[3.75 3.8  3.85 3.9  3.95 4.   4.05 4.1  4.15 4.2  4.25 4.3  4.35 4.4\n",
      " 4.45 4.5  4.55 4.6  4.65 4.7  4.75 4.8  4.85 4.9  4.95 5.   5.05 5.1\n",
      " 5.15 5.2  5.25 5.3  5.35 5.4  5.45 5.5  5.55 5.6  5.65 5.7  5.75 5.8\n",
      " 5.85 5.9  5.95 6.   6.1  6.2  6.3  6.4  6.5  6.6  6.7  6.8  6.9  7.\n",
      " 7.1  7.2  7.3  7.4  7.5  7.6  7.7  7.8  7.9  8.   8.1  8.3  8.5  8.7 ]\n",
      "[-8.  -7.5 -7.  -6.5 -6.  -5.5 -5.  -4.5 -4.  -3.5 -3.  -2.5 -2.  -1.5\n",
      " -1.  -0.5  0.   0.5  1. ]\n",
      "[[-0.767 -0.928 -1.119 ... -0.645 -0.261  0.131]\n",
      " [-0.561 -0.598 -0.675 ... -0.18   0.121  0.429]\n",
      " [-0.534 -0.53  -0.525 ...  0.384  0.628  0.894]\n",
      " ...\n",
      " [-0.633 -0.633 -0.633 ...    nan    nan    nan]\n",
      " [-0.704 -0.704 -0.704 ...    nan    nan    nan]\n",
      " [-0.582 -0.753 -0.785 ...    nan    nan    nan]]\n"
     ]
    }
   ],
   "source": [
    "opacity_table = df.to_numpy()\n",
    "log_T = opacity_table[1:,0]\n",
    "log_R = opacity_table[0,1:]\n",
    "log_opacities = opacity_table[1:,1:]\n",
    "print(log_T)\n",
    "print(log_R)\n",
    "print(log_opacities)"
   ]
  },
  {
   "cell_type": "code",
   "execution_count": 8,
   "id": "683a4df6-51aa-479b-8c05-c7f2dd3eaccd",
   "metadata": {},
   "outputs": [],
   "source": [
    "interpolator = RegularGridInterpolator((log_T, log_R), log_opacities)"
   ]
  },
  {
   "cell_type": "code",
   "execution_count": 9,
   "id": "1a96ee0d-0906-47e0-b3f4-ab7becdc3f6c",
   "metadata": {},
   "outputs": [],
   "source": [
    "def interpolated_opacity(rho, T): \n",
    "        \n",
    "    R = rho / (T * 10**-6)**3\n",
    "    \n",
    "    R = np.maximum(R, 10**-8)\n",
    "    log_R = np.log10(R)\n",
    "    \n",
    "    T = np.maximum(T, 10**3.75)\n",
    "    log_T = np.log10(T)\n",
    "\n",
    "    #print('logR = ', log_R)\n",
    "    #print('logT = ', log_T)\n",
    "    \n",
    "    point = [log_T, log_R]\n",
    "    \n",
    "    log_interpolated_value = interpolator(point)[0]\n",
    "        \n",
    "    opacity = 10**log_interpolated_value\n",
    "    return opacity"
   ]
  },
  {
   "cell_type": "markdown",
   "id": "657c2a96-b707-45e5-9178-a473ec6d81be",
   "metadata": {},
   "source": [
    "# Part 4"
   ]
  },
  {
   "cell_type": "code",
   "execution_count": 10,
   "id": "116e9e20-0156-456c-9f70-8b43678700ad",
   "metadata": {},
   "outputs": [],
   "source": [
    "def g11(T): \n",
    "    T9 = 1e-9 * T\n",
    "    result = 1 + 3.82 * T9 + 1.51 * T9**2 + 0.144 * T9**3 - 0.0114 * T9**4\n",
    "    return result\n",
    "\n",
    "def get_eps_pp(rho, T): \n",
    "    T7 = 1e-7 * T\n",
    "    T9 = 1e-9 * T\n",
    "    psi = 1\n",
    "    f11 = np.exp(5.92e-3 * rho**0.5 / T**1.5)\n",
    "    result = 2.57 * 10**4 * psi * f11 * g11(T9) * rho * X**2 * (T9)**(-2/3) * np.exp(-3.381 / T9**(1/3))\n",
    "    return result\n",
    "\n",
    "def g141(T): \n",
    "    T9 = 1e-9 * T\n",
    "    result = 1 - 2.00 * T9 + 3.41 * T9**2 - 2.43 * T9**3\n",
    "    return result\n",
    "\n",
    "def get_eps_CNO(rho, T):\n",
    "    T9 = 1e-9 * T\n",
    "    X_CNO = (0.173 + 0.053 + 0.482) * Z\n",
    "    result = 8.24 * 10**25 * g141(T) * X_CNO * X * rho * T9**(-2/3) * np.exp(-15.231 * T9**(-1/3)-(T9/0.8)**2)\n",
    "    return result\n",
    "\n",
    "def get_eps(rho, T): \n",
    "    result = get_eps_pp(rho, T) + get_eps_CNO(rho, T)\n",
    "    return result"
   ]
  },
  {
   "cell_type": "markdown",
   "id": "1e29ed75-3131-4100-9b71-d0b9b84a24dd",
   "metadata": {},
   "source": [
    "# Part 5"
   ]
  },
  {
   "cell_type": "markdown",
   "id": "b5e80544-d716-4c34-8d55-bac0275836ab",
   "metadata": {},
   "source": [
    "Assuming complete ionization, and assuming Z << 1 (which is true for the Sun), we have:\n",
    "\n",
    "$P = \\frac{\\rho N_A k T}{\\mu} + \\frac{a T^4}{3}$\n",
    "\n",
    "i.e.\n",
    "\n",
    "$\\rho = \\left[P - \\frac{a T^4}{3}\\right]\\frac{\\mu}{N_A k T}$\n",
    "\n",
    "where $\\mu = 4 / (3 + 5X)$."
   ]
  },
  {
   "cell_type": "code",
   "execution_count": 11,
   "id": "b31542e1-a1e2-422a-853d-dd21442b3e05",
   "metadata": {},
   "outputs": [],
   "source": [
    "mu = 4 / (3 + 5 * X)"
   ]
  },
  {
   "cell_type": "code",
   "execution_count": 12,
   "id": "368e344c-5b83-4416-8c6b-5443a2c8ef01",
   "metadata": {},
   "outputs": [],
   "source": [
    "def get_rho(P, T): \n",
    "    result = (P - a*T**4 / 3) * mu / (NA * k * T)\n",
    "    return result"
   ]
  },
  {
   "cell_type": "markdown",
   "id": "32d92c05-a3ff-405e-8fdb-bf3b43810aae",
   "metadata": {},
   "source": [
    "# Part 8"
   ]
  },
  {
   "cell_type": "code",
   "execution_count": 13,
   "id": "983e1750-ade5-4fa6-8fcb-c29a5505fdc1",
   "metadata": {},
   "outputs": [],
   "source": [
    "def load1(M_r, P_c, T_c):\n",
    "    \n",
    "    rho_c = get_rho(P_c, T_c)\n",
    "    r = (3 * M_r / (4 * np.pi * rho_c))**(1/3)\n",
    "    \n",
    "    eps = get_eps(rho_c, T_c)\n",
    "    l_r = eps * M_r\n",
    "    \n",
    "    P_r = P_c - 3 * G / (8 * np.pi) * (4 * np.pi / 3 * rho_c)**(4/3) * M_r**(2/3)    # from Session 18 lecture notes\n",
    "    T_r = (T_c**4 - 1 / (2 * a * c) * (3 / (4 * np.pi))**(2/3) * interpolated_opacity(rho_c, T_c) * eps * rho_c**(4/3) * M_r**(2/3))**(1/4)    # Assuming a radiative core, which is true in the case of the Sun.\n",
    "    \n",
    "    result = (r, l_r, P_r, T_r)\n",
    "    return result\n",
    "\n",
    "def load2(R, L):\n",
    "    \n",
    "    T_eff = (L / (4 * np.pi * R**2 * sigma))**(1/4)\n",
    "    \n",
    "    def get_T(tau):\n",
    "        result = T_eff * (3/4 * (tau + 2/3))**(1/4)\n",
    "        return result\n",
    "\n",
    "    def dP(tau, P):\n",
    "        T = get_T(tau)\n",
    "        rho = get_rho(P[0], T)\n",
    "        result = G * M_sol / (R**2 * interpolated_opacity(rho, T))\n",
    "        return result\n",
    "\n",
    "    def get_P(tau):\n",
    "        result = solve_ivp(dP, [0, tau], [0]).y[0][-1]\n",
    "        return result\n",
    "    \n",
    "    tau_photosphere = 2/3\n",
    "    T_R = get_T(tau_photosphere)\n",
    "    P_R = get_P(tau_photosphere)\n",
    "    \n",
    "    result = (R, L, P_R, T_R)\n",
    "    return result   "
   ]
  },
  {
   "cell_type": "markdown",
   "id": "e4a9f152-27ea-4745-ae6c-ab179d9caffb",
   "metadata": {},
   "source": [
    "# Part 9"
   ]
  },
  {
   "cell_type": "code",
   "execution_count": 14,
   "id": "7d9e3310-3927-4c3b-893b-adff991866f8",
   "metadata": {},
   "outputs": [],
   "source": [
    "def get_del_rad(l, P, T, m):\n",
    "    \n",
    "    rho = get_rho(P, T)    \n",
    "    result = 3 * P * interpolated_opacity(rho, T) * l / (16 * np.pi * a * c * T**4 * G * m)\n",
    "    return result\n",
    "\n",
    "def get_del_conv(P, T):\n",
    "    \n",
    "    rho = get_rho(P, T)    \n",
    "    beta = rho * NA * k * T / (mu * P)\n",
    "    result = (8 - 6 * beta) / (32 - 24 * beta - 3 * beta**2)\n",
    "    return result\n",
    "\n",
    "def nabla(l, P, T, m):\n",
    "    \n",
    "    del_ad = get_del_conv(P, T)\n",
    "    del_rad = get_del_rad(l, P, T, m)\n",
    "    \n",
    "    if del_ad > del_rad: \n",
    "        result = (del_rad, True)\n",
    "    else: \n",
    "        result = (del_ad, False)\n",
    "        \n",
    "    return result\n",
    "\n",
    "def derivs(m, inp_fourvec):\n",
    "    \n",
    "    r = inp_fourvec[0]\n",
    "    l = inp_fourvec[1]\n",
    "    P = inp_fourvec[2]\n",
    "    T = inp_fourvec[3]\n",
    "    \n",
    "    rho = get_rho(P, T)   \n",
    "    \n",
    "    true_del = nabla(l, P, T, m)[0]\n",
    "    \n",
    "    dr = 1 / (4 * np.pi * r**2 * rho)\n",
    "    dl = get_eps(rho, T)\n",
    "    dP = -G * m / (4 * np.pi * r**4)\n",
    "    dT = -G * m * T / (4 * np.pi * r**4 * P) * true_del\n",
    "    \n",
    "    result = (dr, dl, dP, dT)\n",
    "    return result"
   ]
  },
  {
   "cell_type": "markdown",
   "id": "9a13e9cd-8abc-4a78-a1fe-41a505d8eb1e",
   "metadata": {},
   "source": [
    "# Part 10"
   ]
  },
  {
   "cell_type": "code",
   "execution_count": 15,
   "id": "19011d41-ae7c-47b8-8b06-956a4cd27d47",
   "metadata": {},
   "outputs": [],
   "source": [
    "def newt(inp_fourvec):\n",
    "    \n",
    "    R = inp_fourvec[0]\n",
    "    L = inp_fourvec[1]\n",
    "    P_c = inp_fourvec[2]\n",
    "    T_c = inp_fourvec[3]\n",
    "\n",
    "    n_steps = 1000\n",
    "    \n",
    "    small_frac = 1e-10\n",
    "    small_mass = small_frac * M_sol\n",
    "    \n",
    "    shooting_frac = 0.21\n",
    "    shooting_mass = shooting_frac * M_sol\n",
    "    \n",
    "    out_eval = np.linspace(small_mass, shooting_mass, int(shooting_frac * n_steps))\n",
    "    env_eval = M_sol - np.logspace(np.log10(small_mass), np.log10(shooting_mass / 2), int(shooting_frac * n_steps / 2))\n",
    "    \n",
    "    step = M_sol / n_steps\n",
    "    \n",
    "    switch = np.where(step < env_eval[:-1] - env_eval[1:])[0][0]\n",
    "    SOROS = env_eval[switch]    # SOR stands for Start of Rest of Star\n",
    "    NOSFROS = int((SOROS - shooting_mass) / step)    # NOSFROS stands for Number of Steps for Rest of Star\n",
    "    \n",
    "    ROS_eval = np.linspace(SOROS, shooting_mass, NOSFROS)    # ROS stands for Rest of Star\n",
    "    env_eval = env_eval[:switch]\n",
    "    in_eval = np.concatenate((env_eval, ROS_eval))    \n",
    "    \n",
    "    out_result = solve_ivp(derivs, [small_mass, shooting_mass], load1(small_mass, P_c, T_c), t_eval = out_eval)\n",
    "    in_result = solve_ivp(derivs, [M_sol, shooting_mass], load2(R, L), t_eval = in_eval)\n",
    "    \n",
    "    result = (out_result, in_result)\n",
    "    return result"
   ]
  },
  {
   "cell_type": "code",
   "execution_count": 16,
   "id": "ae0a50c8-b7d9-41a5-b748-080c7bc14d58",
   "metadata": {},
   "outputs": [
    {
     "name": "stdout",
     "output_type": "stream",
     "text": [
      "INITIAL GUESS:  [69550000000.0, 3.839e+33, 2.65e+17, 15000000.0]\n",
      "Total Computation Time:  3.332814931869507 seconds\n"
     ]
    }
   ],
   "source": [
    "P_c_sol = 2.65e17\n",
    "T_c_sol = 1.5e7\n",
    "\n",
    "initial_guess = [R_sol, L_sol, P_c_sol, T_c_sol]\n",
    "print(\"INITIAL GUESS: \", initial_guess)\n",
    "\n",
    "def get_scores(inp_fourvec):\n",
    "    \n",
    "    newt_result = newt(inp_fourvec)\n",
    "    out_result = newt_result[0]\n",
    "    in_result = newt_result[1]\n",
    "    \n",
    "    scores = []\n",
    "    \n",
    "    for index in range(4): \n",
    "        score = 2 * (out_result.y[index, -1] - in_result.y[index, -1]) / (out_result.y[index, -1] + in_result.y[index, -1])\n",
    "        scores.append(score)\n",
    "        \n",
    "    return scores\n",
    "\n",
    "start = time.time()\n",
    "sol = root(get_scores, initial_guess)\n",
    "end = time.time()\n",
    "print('Total Computation Time: ', end - start, 'seconds')\n",
    "\n",
    "newt_result = newt(sol.x)\n",
    "out_result = newt_result[0]\n",
    "in_result = newt_result[1]\n",
    "\n",
    "newt_guess_result = newt(initial_guess)\n",
    "out_guess_result = newt_guess_result[0]\n",
    "in_guess_result = newt_guess_result[1]"
   ]
  },
  {
   "cell_type": "code",
   "execution_count": 17,
   "id": "9b7f4ed9-5336-4bc6-8d27-888505f27d0c",
   "metadata": {},
   "outputs": [],
   "source": [
    "#shooting_fraction = 0.21\n",
    "#solve_ivp(derivs, [M_sol, shooting_fraction*M_sol], load2(initial_guess[0], initial_guess[1]))"
   ]
  },
  {
   "cell_type": "code",
   "execution_count": 18,
   "id": "708c8727-544b-464e-b742-4fd3fc101d78",
   "metadata": {},
   "outputs": [
    {
     "data": {
      "text/plain": [
       "<matplotlib.lines.Line2D at 0x7ff1233689d0>"
      ]
     },
     "execution_count": 18,
     "metadata": {},
     "output_type": "execute_result"
    },
    {
     "data": {
      "image/png": "[encoded data removed]",
      "text/plain": [
       "<Figure size 432x288 with 1 Axes>"
      ]
     },
     "metadata": {
      "needs_background": "light"
     },
     "output_type": "display_data"
    }
   ],
   "source": [
    "plt.plot(in_guess_result.t / M_sol, in_guess_result.y[3] , label='Inward', c='indigo')\n",
    "plt.plot(out_guess_result.t / M_sol, out_guess_result.y[3], label='Outward', c='red')\n",
    "plt.xlabel(r'$\\frac{m}{M_{\\odot}}$', fontsize=18)\n",
    "plt.ylabel('T (K)', fontsize=18)\n",
    "plt.legend()\n",
    "plt.tick_params(axis='both', labelsize=14)\n",
    "plt.axvline(x=0.21, linestyle='dashdot', c='black')"
   ]
  },
  {
   "cell_type": "code",
   "execution_count": 19,
   "id": "0f53a795-729f-4d8d-b694-52e1682358de",
   "metadata": {},
   "outputs": [
    {
     "data": {
      "text/plain": [
       "<matplotlib.lines.Line2D at 0x7ff1400fe7d0>"
      ]
     },
     "execution_count": 19,
     "metadata": {},
     "output_type": "execute_result"
    },
    {
     "data": {
      "image/png": "[encoded data removed]",
      "text/plain": [
       "<Figure size 432x288 with 1 Axes>"
      ]
     },
     "metadata": {
      "needs_background": "light"
     },
     "output_type": "display_data"
    }
   ],
   "source": [
    "plt.plot(in_result.t / M_sol, in_result.y[3] , label='Inward', c='indigo')\n",
    "plt.plot(out_result.t / M_sol, out_result.y[3], label='Outward', c='red')\n",
    "plt.xlabel(r'$\\frac{m}{M_{\\odot}}$', fontsize=18)\n",
    "plt.ylabel('T (K)', fontsize=18)\n",
    "plt.legend()\n",
    "plt.tick_params(axis='both', labelsize=14)\n",
    "plt.axvline(x=0.21, linestyle='dashdot', c='black')"
   ]
  },
  {
   "cell_type": "code",
   "execution_count": 20,
   "id": "41c2b71b-ca4b-48ca-b441-a082eca8ef68",
   "metadata": {},
   "outputs": [],
   "source": [
    "def plot_solns(inp_in_result, inp_out_result, c='blue'):\n",
    "    \n",
    "    in_yvals = [inp_in_result.y[0]/R_sol, inp_in_result.y[1]/L_sol, inp_in_result.y[2], inp_in_result.y[3]]\n",
    "    out_yvals = [inp_out_result.y[0]/R_sol, inp_out_result.y[1]/L_sol, inp_out_result.y[2], inp_out_result.y[3]]\n",
    "    \n",
    "    labels = [r'$\\frac{r}{R_{\\odot}}$', r'$\\frac{\\ell}{L_{\\odot}}$', 'P (dyne cm$^{-2}$)', 'T (K)']\n",
    "    \n",
    "    fig, ax = plt.subplots(4, 1, figsize=(6, 12), sharex=True)\n",
    "    \n",
    "    for index, subplot in enumerate(ax):\n",
    "        \n",
    "        subplot.plot(inp_out_result.t/M_sol, out_yvals[index], c=c)\n",
    "        subplot.plot(inp_in_result.t/M_sol, in_yvals[index], c=c)\n",
    "        subplot.set_ylabel(labels[index], fontsize=14)\n",
    "        subplot.tick_params(axis='both', which='major', labelsize=14)\n",
    "        \n",
    "        if index == 3:\n",
    "            plt.xlabel(r'$\\frac{m}{M_{\\odot}}$', fontsize=14)\n",
    "    \n",
    "    fig.canvas.draw()\n",
    "    return fig, ax"
   ]
  },
  {
   "cell_type": "code",
   "execution_count": 21,
   "id": "ab2a6201-4ba0-474f-9c47-9747ec7b88b0",
   "metadata": {},
   "outputs": [
    {
     "data": {
      "image/png": "[encoded data removed]",
      "text/plain": [
       "<Figure size 432x864 with 4 Axes>"
      ]
     },
     "metadata": {
      "needs_background": "light"
     },
     "output_type": "display_data"
    }
   ],
   "source": [
    "fig, ax = plot_solns(in_result, out_result, c='limegreen')"
   ]
  },
  {
   "cell_type": "markdown",
   "id": "668e636f-f807-4955-aa50-6cee5d570c88",
   "metadata": {},
   "source": [
    "# Part 11 (MESA)"
   ]
  },
  {
   "cell_type": "code",
   "execution_count": 22,
   "id": "a010dd66-a8a3-404b-a71d-e0aa3f2db0d2",
   "metadata": {},
   "outputs": [],
   "source": [
    "import mesa_reader as mr\n",
    "\n",
    "# load entire LOG directory information\n",
    "l = mr.MesaLogDir('mesa-r22.11.1/sun/LOGS/')\n",
    "# grab the last profile\n",
    "p = l.profile_data()"
   ]
  },
  {
   "cell_type": "code",
   "execution_count": 23,
   "id": "57ae6aa6-d7d1-490f-a8ab-e7f4b2272858",
   "metadata": {},
   "outputs": [
    {
     "data": {
      "image/png": "[encoded data removed]",
      "text/plain": [
       "<Figure size 432x288 with 1 Axes>"
      ]
     },
     "metadata": {
      "needs_background": "light"
     },
     "output_type": "display_data"
    }
   ],
   "source": [
    "plt.plot(p.mass, p.R, c='magenta')\n",
    "plt.xlabel(r'$\\frac{m}{M_{\\odot}}$', fontsize=18)\n",
    "plt.ylabel(r'$\\frac{r}{R_{\\odot}}$', fontsize=18)\n",
    "plt.tick_params(axis='both', labelsize=14)\n",
    "plt.show()"
   ]
  },
  {
   "cell_type": "code",
   "execution_count": 24,
   "id": "2c40b0d5-d4dc-4079-b7a1-373b6164e902",
   "metadata": {},
   "outputs": [
    {
     "data": {
      "image/png": "[encoded data removed]",
      "text/plain": [
       "<Figure size 432x288 with 1 Axes>"
      ]
     },
     "metadata": {
      "needs_background": "light"
     },
     "output_type": "display_data"
    }
   ],
   "source": [
    "plt.plot(p.mass, p.P, c='magenta')\n",
    "plt.xlabel(r'$\\frac{m}{M_{\\odot}}$', fontsize=18)\n",
    "plt.ylabel('P (dyne cm$^{-2}$)', fontsize=18)\n",
    "plt.tick_params(axis='both', labelsize=14)\n",
    "plt.show()"
   ]
  },
  {
   "cell_type": "code",
   "execution_count": 25,
   "id": "3a1004df-3faa-4a54-9e1c-e48ab18247f7",
   "metadata": {},
   "outputs": [
    {
     "data": {
      "image/png": "[encoded data removed]",
      "text/plain": [
       "<Figure size 432x288 with 1 Axes>"
      ]
     },
     "metadata": {
      "needs_background": "light"
     },
     "output_type": "display_data"
    }
   ],
   "source": [
    "plt.plot(p.mass, p.T, c='magenta')\n",
    "plt.xlabel(r'$\\frac{m}{M_{\\odot}}$', fontsize=18)\n",
    "plt.ylabel('T (K)', fontsize=18)\n",
    "plt.tick_params(axis='both', labelsize=14)\n",
    "plt.show()"
   ]
  },
  {
   "cell_type": "code",
   "execution_count": 26,
   "id": "a1557d98-c579-403b-8098-1c72d929c986",
   "metadata": {},
   "outputs": [],
   "source": [
    "def plot_solns_MESA(inp_in_result, inp_out_result, c='blue', c_mesa='red'):\n",
    "    \n",
    "    in_yvals = [inp_in_result.y[0]/R_sol, inp_in_result.y[2], inp_in_result.y[3]]\n",
    "    out_yvals = [inp_out_result.y[0]/R_sol, inp_out_result.y[2], inp_out_result.y[3]]\n",
    "    \n",
    "    labels = [r'$\\frac{r}{R_{\\odot}}$', 'P (dyne cm$^{-2}$)', 'T (K)']\n",
    "    MESA_variables = [p.R, p.P, p.T]\n",
    "    \n",
    "    fig, ax = plt.subplots(3, 1, figsize=(6, 12), sharex=True)\n",
    "    \n",
    "    for index, subplot in enumerate(ax):\n",
    "        \n",
    "        subplot.plot(inp_out_result.t/M_sol, out_yvals[index], c=c)\n",
    "        subplot.plot(inp_in_result.t/M_sol, in_yvals[index], c=c, label='shootf')\n",
    "        subplot.plot(p.mass, MESA_variables[index], c=c_mesa, label='MESA')\n",
    "        subplot.set_ylabel(labels[index], fontsize=14)\n",
    "        subplot.tick_params(axis='both', which='major', labelsize=14)\n",
    "        subplot.legend()\n",
    "        \n",
    "        if index == 2:\n",
    "            plt.xlabel(r'$\\frac{m}{M_{\\odot}}$', fontsize=14)\n",
    "    \n",
    "    fig.canvas.draw()\n",
    "    return fig, ax"
   ]
  },
  {
   "cell_type": "code",
   "execution_count": 27,
   "id": "a4dda1a7-9813-4cf2-b914-3fa804dcb70f",
   "metadata": {},
   "outputs": [
    {
     "data": {
      "image/png": "[encoded data removed]",
      "text/plain": [
       "<Figure size 432x864 with 3 Axes>"
      ]
     },
     "metadata": {
      "needs_background": "light"
     },
     "output_type": "display_data"
    }
   ],
   "source": [
    "fig, ax = plot_solns_MESA(in_result, out_result, c='limegreen', c_mesa='magenta')"
   ]
  },
  {
   "cell_type": "markdown",
   "id": "908e48b2-64fa-44c1-b57c-306005ad601f",
   "metadata": {},
   "source": [
    "# Extra Code for the Write-Up"
   ]
  },
  {
   "cell_type": "code",
   "execution_count": 28,
   "id": "6dddd4d0-04e6-43fe-9b27-7a7fc36b7126",
   "metadata": {},
   "outputs": [],
   "source": [
    "def get_shell_nature(l, P, T, m):\n",
    "    is_rad = nabla(l, P, T, m)[1]\n",
    "    return 'Rad' if is_rad else 'Conv'\n",
    "\n",
    "masses = np.concatenate((out_result.t, in_result.t[::-1])).tolist()\n",
    "radii = np.concatenate((out_result.y[0], in_result.y[0][::-1])).tolist()\n",
    "luminosities = np.concatenate((out_result.y[1], in_result.y[1][::-1])).tolist()\n",
    "pressures = np.concatenate((out_result.y[2], in_result.y[2][::-1])).tolist()\n",
    "temperatures = np.concatenate((out_result.y[3], in_result.y[3][::-1])).tolist()\n",
    "\n",
    "ln_T = np.log(temperatures)\n",
    "ln_P = np.log(pressures)\n",
    "dln_T = np.gradient(ln_T)\n",
    "dln_P = np.gradient(ln_P)\n",
    "\n",
    "temperature_gradients = dln_T / dln_P\n",
    "\n",
    "rhos = []\n",
    "epsilons = []\n",
    "kappas = []\n",
    "del_convs = []\n",
    "shell_natures = []\n",
    "\n",
    "num_points = len(masses)\n",
    "\n",
    "for index in range(num_points): \n",
    "    rhos.append(get_rho(pressures[index], temperatures[index]))\n",
    "    epsilons.append(get_eps(rhos[index], temperatures[index]))\n",
    "    kappas.append(interpolated_opacity(rhos[index], temperatures[index]))\n",
    "    del_convs.append(get_del_conv(pressures[index], temperatures[index]))\n",
    "    shell_natures.append(get_shell_nature(luminosities[index], pressures[index], temperatures[index], masses[index]))"
   ]
  },
  {
   "cell_type": "code",
   "execution_count": 29,
   "id": "87f707f4-fa73-4614-b9ef-2617ad93ff9b",
   "metadata": {},
   "outputs": [],
   "source": [
    "WU_num_points = 5\n",
    "\n",
    "step_size = num_points // WU_num_points\n",
    "\n",
    "def round_list(inp_list, sig_digits=3):\n",
    "    def round_sci(x, sig_digits):\n",
    "        return float(f\"{x:.{sig_digits}e}\")\n",
    "    \n",
    "    return [round_sci(x, sig_digits) for x in inp_list]\n",
    "\n",
    "def TOSCI(inp_list):\n",
    "    def to_sci_notation(x):\n",
    "        return \"{:.{}e}\".format(x, 6)\n",
    "    \n",
    "    return [to_sci_notation(x) for x in inp_list]\n",
    "\n",
    "WU_masses = round_list(masses[::step_size][:WU_num_points])    # WU stands for Write-Up (i.e. this is what's going to go in the write-up)\n",
    "WU_radii = TOSCI(round_list(radii[::step_size][:WU_num_points]))\n",
    "WU_luminosities = round_list(luminosities[::step_size][:WU_num_points])\n",
    "WU_pressures = TOSCI(round_list(pressures[::step_size][:WU_num_points]))\n",
    "WU_temperatures = TOSCI(round_list(temperatures[::step_size][:WU_num_points]))\n",
    "\n",
    "WU_temperature_gradients = round_list(temperature_gradients[::step_size][:WU_num_points])\n",
    "\n",
    "WU_kappas = round_list(kappas[::step_size][:WU_num_points])\n",
    "WU_epsilons = round_list(epsilons[::step_size][:WU_num_points])\n",
    "WU_rhos = round_list(rhos[::step_size][:WU_num_points])\n",
    "WU_del_convs = round_list(del_convs[::step_size][:WU_num_points])\n",
    "WU_shell_natures = shell_natures[::step_size][:WU_num_points]"
   ]
  },
  {
   "cell_type": "code",
   "execution_count": 30,
   "id": "70678839-5404-4734-8ace-55ff46ea3619",
   "metadata": {},
   "outputs": [],
   "source": [
    "def generate_latex_table(headers, *data):\n",
    "    num_columns = len(headers)\n",
    "    num_rows = len(data[0])\n",
    "\n",
    "    # Begin the LaTeX table environment\n",
    "    latex_table = \"\\\\begin{table}\\n\\\\centering\\n\\\\begin{tabular}{|\" + \"c|\" * (num_columns + 1) + \"}\\n\\\\hline\\n\"\n",
    "\n",
    "    # Add an empty cell in the top-left corner\n",
    "    latex_table += \" & \" + \" & \".join(headers) + \"\\\\\\\\ \\\\hline\\n\"\n",
    "\n",
    "    # Add the data\n",
    "    for i, var_name in enumerate(data):\n",
    "        row_data = [str(value) for value in var_name[1]]\n",
    "        latex_table += f\"{var_name[0]} & \" + \" & \".join(row_data) + \"\\\\\\\\ \\\\hline\\n\"\n",
    "\n",
    "    # End the LaTeX table environment\n",
    "    latex_table += \"\\\\end{tabular}\\n\\\\caption{Your table caption}\\n\\\\label{your_table_label}\\n\\\\end{table}\"\n",
    "\n",
    "    return latex_table"
   ]
  },
  {
   "cell_type": "code",
   "execution_count": 31,
   "id": "6a52eb4e-b78d-4923-b402-935a64ad3aad",
   "metadata": {},
   "outputs": [
    {
     "name": "stdout",
     "output_type": "stream",
     "text": [
      "\\begin{table}\n",
      "\\centering\n",
      "\\begin{tabular}{|c|c|c|c|c|c|}\n",
      "\\hline\n",
      " & Value 1 & Value 2 & Value 3 & Value 4 & Value 5\\\\ \\hline\n",
      "$\\frac{m}{M_{\\odot}}$ & 1.989e+23 & 4.297e+32 & 8.602e+32 & 1.291e+33 & 1.721e+33\\\\ \\hline\n",
      "$\\frac{r}{R_{\\odot}}$ & 8.228000e+06 & 1.196000e+10 & 1.682000e+10 & 2.233000e+10 & 3.198000e+10\\\\ \\hline\n",
      "$\\frac{\\ell}{L_{\\odot}}$ & 2.522e+24 & 2.04e+33 & 2.411e+33 & 2.472e+33 & 2.477e+33\\\\ \\hline\n",
      "P & 1.546000e+17 & 6.112000e+16 & 2.639000e+16 & 8.725000e+15 & 1.198000e+15\\\\ \\hline\n",
      "T & 1.333000e+07 & 9.772000e+06 & 7.817000e+06 & 6.111000e+06 & 4.141000e+06\\\\ \\hline\n",
      "Temperature Gradient & 0.3813 & 0.2923 & 0.24 & 0.207 & 0.1912\\\\ \\hline\n",
      "$\\kappa$ & 1.564 & 2.33 & 3.092 & 4.389 & 8.25\\\\ \\hline\n",
      "$\\varepsilon$ & 12.68 & 1.755 & 0.324 & 0.03761 & 0.0007628\\\\ \\hline\n",
      "$\\rho$ & 85.23 & 45.99 & 24.82 & 10.5 & 2.127\\\\ \\hline\n",
      "$\\nabla_{\\text{conv}}$ & 0.3994 & 0.3995 & 0.3996 & 0.3995 & 0.3993\\\\ \\hline\n",
      "Shell Nature & Rad & Rad & Rad & Rad & Rad\\\\ \\hline\n",
      "\\end{tabular}\n",
      "\\caption{Your table caption}\n",
      "\\label{your_table_label}\n",
      "\\end{table}\n"
     ]
    }
   ],
   "source": [
    "headers = [\"Value 1\", \"Value 2\", \"Value 3\", \"Value 4\", \"Value 5\"]\n",
    "data1 = (r'$\\frac{m}{M_{\\odot}}$', WU_masses)\n",
    "data2 = (r'$\\frac{r}{R_{\\odot}}$', WU_radii)\n",
    "data3 = (r'$\\frac{\\ell}{L_{\\odot}}$', WU_luminosities)\n",
    "data4 = ('P', WU_pressures)\n",
    "data5 = ('T', WU_temperatures)\n",
    "data6 = ('Temperature Gradient', WU_temperature_gradients)\n",
    "data7 = (r'$\\kappa$', WU_kappas)\n",
    "data8 = (r'$\\varepsilon$', WU_epsilons)\n",
    "data9 = (r'$\\rho$', WU_rhos)\n",
    "data10 = (r'$\\nabla_{\\text{conv}}$', WU_del_convs)\n",
    "data11 = ('Shell Nature', WU_shell_natures)\n",
    "\n",
    "latex_table = generate_latex_table(headers, data1, data2, data3, data4, data5, data6, data7, data8, data9, data10, data11)\n",
    "print(latex_table)"
   ]
  },
  {
   "cell_type": "code",
   "execution_count": null,
   "id": "e4b87099-2704-4c5e-b72b-f7679762fcd5",
   "metadata": {},
   "outputs": [],
   "source": []
  }
 ],
 "metadata": {
  "kernelspec": {
   "display_name": "Python 3",
   "language": "python",
   "name": "python3"
  },
  "language_info": {
   "codemirror_mode": {
    "name": "ipython",
    "version": 3
   },
   "file_extension": ".py",
   "mimetype": "text/x-python",
   "name": "python",
   "nbconvert_exporter": "python",
   "pygments_lexer": "ipython3",
   "version": "3.7.13"
  }
 },
 "nbformat": 4,
 "nbformat_minor": 5
}
